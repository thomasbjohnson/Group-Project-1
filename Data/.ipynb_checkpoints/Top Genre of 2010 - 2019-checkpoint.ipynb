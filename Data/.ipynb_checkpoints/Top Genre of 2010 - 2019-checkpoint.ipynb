{
 "cells": [
  {
   "cell_type": "markdown",
   "metadata": {},
   "source": [
    "\n",
    "Analyzing the Top 10 Songs 2010 to 2019 from Spotify\n",
    "\n",
    "The basic premise behind the project is to answer several research based questions.\n",
    "\n",
    "How can I represent the different variables in a way that makes sense.\n",
    "\n",
    "How are the top 10 songs's attributes are related to each other\n",
    "\n",
    "Are there any trends in the pop, energy, dancability etc. among the top songs.\n",
    "\n",
    "Is there any patterns to why people streamed these songs?\n",
    "\n",
    "What variables seem to be the most common among the songs\n",
    "\n",
    "The most popular pop?\n",
    "\n",
    "Most popular bpm?\n",
    "etc."
   ]
  },
  {
   "cell_type": "code",
   "execution_count": 16,
   "metadata": {},
   "outputs": [
    {
     "data": {
      "text/html": [
       "<div>\n",
       "<style scoped>\n",
       "    .dataframe tbody tr th:only-of-type {\n",
       "        vertical-align: middle;\n",
       "    }\n",
       "\n",
       "    .dataframe tbody tr th {\n",
       "        vertical-align: top;\n",
       "    }\n",
       "\n",
       "    .dataframe thead th {\n",
       "        text-align: right;\n",
       "    }\n",
       "</style>\n",
       "<table border=\"1\" class=\"dataframe\">\n",
       "  <thead>\n",
       "    <tr style=\"text-align: right;\">\n",
       "      <th></th>\n",
       "      <th>Unnamed: 0</th>\n",
       "      <th>title</th>\n",
       "      <th>artist</th>\n",
       "      <th>top genre</th>\n",
       "      <th>year</th>\n",
       "      <th>bpm</th>\n",
       "      <th>nrgy</th>\n",
       "      <th>dnce</th>\n",
       "      <th>dB</th>\n",
       "      <th>live</th>\n",
       "      <th>val</th>\n",
       "      <th>dur</th>\n",
       "      <th>acous</th>\n",
       "      <th>spch</th>\n",
       "      <th>pop</th>\n",
       "    </tr>\n",
       "  </thead>\n",
       "  <tbody>\n",
       "    <tr>\n",
       "      <th>0</th>\n",
       "      <td>1</td>\n",
       "      <td>Hey, Soul Sister</td>\n",
       "      <td>Train</td>\n",
       "      <td>neo mellow</td>\n",
       "      <td>2010</td>\n",
       "      <td>97</td>\n",
       "      <td>89</td>\n",
       "      <td>67</td>\n",
       "      <td>-4</td>\n",
       "      <td>8</td>\n",
       "      <td>80</td>\n",
       "      <td>217</td>\n",
       "      <td>19</td>\n",
       "      <td>4</td>\n",
       "      <td>83</td>\n",
       "    </tr>\n",
       "    <tr>\n",
       "      <th>1</th>\n",
       "      <td>2</td>\n",
       "      <td>Love The Way You Lie</td>\n",
       "      <td>Eminem</td>\n",
       "      <td>detroit hip hop</td>\n",
       "      <td>2010</td>\n",
       "      <td>87</td>\n",
       "      <td>93</td>\n",
       "      <td>75</td>\n",
       "      <td>-5</td>\n",
       "      <td>52</td>\n",
       "      <td>64</td>\n",
       "      <td>263</td>\n",
       "      <td>24</td>\n",
       "      <td>23</td>\n",
       "      <td>82</td>\n",
       "    </tr>\n",
       "    <tr>\n",
       "      <th>2</th>\n",
       "      <td>3</td>\n",
       "      <td>TiK ToK</td>\n",
       "      <td>Kesha</td>\n",
       "      <td>dance pop</td>\n",
       "      <td>2010</td>\n",
       "      <td>120</td>\n",
       "      <td>84</td>\n",
       "      <td>76</td>\n",
       "      <td>-3</td>\n",
       "      <td>29</td>\n",
       "      <td>71</td>\n",
       "      <td>200</td>\n",
       "      <td>10</td>\n",
       "      <td>14</td>\n",
       "      <td>80</td>\n",
       "    </tr>\n",
       "    <tr>\n",
       "      <th>3</th>\n",
       "      <td>4</td>\n",
       "      <td>Bad Romance</td>\n",
       "      <td>Lady Gaga</td>\n",
       "      <td>dance pop</td>\n",
       "      <td>2010</td>\n",
       "      <td>119</td>\n",
       "      <td>92</td>\n",
       "      <td>70</td>\n",
       "      <td>-4</td>\n",
       "      <td>8</td>\n",
       "      <td>71</td>\n",
       "      <td>295</td>\n",
       "      <td>0</td>\n",
       "      <td>4</td>\n",
       "      <td>79</td>\n",
       "    </tr>\n",
       "    <tr>\n",
       "      <th>4</th>\n",
       "      <td>5</td>\n",
       "      <td>Just the Way You Are</td>\n",
       "      <td>Bruno Mars</td>\n",
       "      <td>pop</td>\n",
       "      <td>2010</td>\n",
       "      <td>109</td>\n",
       "      <td>84</td>\n",
       "      <td>64</td>\n",
       "      <td>-5</td>\n",
       "      <td>9</td>\n",
       "      <td>43</td>\n",
       "      <td>221</td>\n",
       "      <td>2</td>\n",
       "      <td>4</td>\n",
       "      <td>78</td>\n",
       "    </tr>\n",
       "  </tbody>\n",
       "</table>\n",
       "</div>"
      ],
      "text/plain": [
       "   Unnamed: 0                 title      artist        top genre  year  bpm  \\\n",
       "0           1      Hey, Soul Sister       Train       neo mellow  2010   97   \n",
       "1           2  Love The Way You Lie      Eminem  detroit hip hop  2010   87   \n",
       "2           3               TiK ToK       Kesha        dance pop  2010  120   \n",
       "3           4           Bad Romance   Lady Gaga        dance pop  2010  119   \n",
       "4           5  Just the Way You Are  Bruno Mars              pop  2010  109   \n",
       "\n",
       "   nrgy  dnce  dB  live  val  dur  acous  spch  pop  \n",
       "0    89    67  -4     8   80  217     19     4   83  \n",
       "1    93    75  -5    52   64  263     24    23   82  \n",
       "2    84    76  -3    29   71  200     10    14   80  \n",
       "3    92    70  -4     8   71  295      0     4   79  \n",
       "4    84    64  -5     9   43  221      2     4   78  "
      ]
     },
     "execution_count": 16,
     "metadata": {},
     "output_type": "execute_result"
    }
   ],
   "source": [
    "# Dependencies and Setup\n",
    "import pandas as pd\n",
    "import matplotlib.pyplot as plt\n",
    "music = \"top10s.csv\"\n",
    "song = pd.read_csv(music,encoding = \"cp1252\")\n",
    "import seaborn as sns\n",
    "\n",
    "song.head()"
   ]
  },
  {
   "cell_type": "code",
   "execution_count": 17,
   "metadata": {},
   "outputs": [
    {
     "data": {
      "text/html": [
       "<div>\n",
       "<style scoped>\n",
       "    .dataframe tbody tr th:only-of-type {\n",
       "        vertical-align: middle;\n",
       "    }\n",
       "\n",
       "    .dataframe tbody tr th {\n",
       "        vertical-align: top;\n",
       "    }\n",
       "\n",
       "    .dataframe thead th {\n",
       "        text-align: right;\n",
       "    }\n",
       "</style>\n",
       "<table border=\"1\" class=\"dataframe\">\n",
       "  <thead>\n",
       "    <tr style=\"text-align: right;\">\n",
       "      <th></th>\n",
       "      <th>title</th>\n",
       "      <th>artist</th>\n",
       "      <th>top genre</th>\n",
       "    </tr>\n",
       "  </thead>\n",
       "  <tbody>\n",
       "    <tr>\n",
       "      <th>0</th>\n",
       "      <td>Hey, Soul Sister</td>\n",
       "      <td>Train</td>\n",
       "      <td>neo mellow</td>\n",
       "    </tr>\n",
       "    <tr>\n",
       "      <th>1</th>\n",
       "      <td>Love The Way You Lie</td>\n",
       "      <td>Eminem</td>\n",
       "      <td>detroit hip hop</td>\n",
       "    </tr>\n",
       "    <tr>\n",
       "      <th>2</th>\n",
       "      <td>TiK ToK</td>\n",
       "      <td>Kesha</td>\n",
       "      <td>dance pop</td>\n",
       "    </tr>\n",
       "    <tr>\n",
       "      <th>3</th>\n",
       "      <td>Bad Romance</td>\n",
       "      <td>Lady Gaga</td>\n",
       "      <td>dance pop</td>\n",
       "    </tr>\n",
       "    <tr>\n",
       "      <th>4</th>\n",
       "      <td>Just the Way You Are</td>\n",
       "      <td>Bruno Mars</td>\n",
       "      <td>pop</td>\n",
       "    </tr>\n",
       "    <tr>\n",
       "      <th>...</th>\n",
       "      <td>...</td>\n",
       "      <td>...</td>\n",
       "      <td>...</td>\n",
       "    </tr>\n",
       "    <tr>\n",
       "      <th>598</th>\n",
       "      <td>Find U Again (feat. Camila Cabello)</td>\n",
       "      <td>Mark Ronson</td>\n",
       "      <td>dance pop</td>\n",
       "    </tr>\n",
       "    <tr>\n",
       "      <th>599</th>\n",
       "      <td>Cross Me (feat. Chance the Rapper &amp; PnB Rock)</td>\n",
       "      <td>Ed Sheeran</td>\n",
       "      <td>pop</td>\n",
       "    </tr>\n",
       "    <tr>\n",
       "      <th>600</th>\n",
       "      <td>No Brainer (feat. Justin Bieber, Chance the Ra...</td>\n",
       "      <td>DJ Khaled</td>\n",
       "      <td>dance pop</td>\n",
       "    </tr>\n",
       "    <tr>\n",
       "      <th>601</th>\n",
       "      <td>Nothing Breaks Like a Heart (feat. Miley Cyrus)</td>\n",
       "      <td>Mark Ronson</td>\n",
       "      <td>dance pop</td>\n",
       "    </tr>\n",
       "    <tr>\n",
       "      <th>602</th>\n",
       "      <td>Kills You Slowly</td>\n",
       "      <td>The Chainsmokers</td>\n",
       "      <td>electropop</td>\n",
       "    </tr>\n",
       "  </tbody>\n",
       "</table>\n",
       "<p>603 rows × 3 columns</p>\n",
       "</div>"
      ],
      "text/plain": [
       "                                                 title            artist  \\\n",
       "0                                     Hey, Soul Sister             Train   \n",
       "1                                 Love The Way You Lie            Eminem   \n",
       "2                                              TiK ToK             Kesha   \n",
       "3                                          Bad Romance         Lady Gaga   \n",
       "4                                 Just the Way You Are        Bruno Mars   \n",
       "..                                                 ...               ...   \n",
       "598                Find U Again (feat. Camila Cabello)       Mark Ronson   \n",
       "599      Cross Me (feat. Chance the Rapper & PnB Rock)        Ed Sheeran   \n",
       "600  No Brainer (feat. Justin Bieber, Chance the Ra...         DJ Khaled   \n",
       "601    Nothing Breaks Like a Heart (feat. Miley Cyrus)       Mark Ronson   \n",
       "602                                   Kills You Slowly  The Chainsmokers   \n",
       "\n",
       "           top genre  \n",
       "0         neo mellow  \n",
       "1    detroit hip hop  \n",
       "2          dance pop  \n",
       "3          dance pop  \n",
       "4                pop  \n",
       "..               ...  \n",
       "598        dance pop  \n",
       "599              pop  \n",
       "600        dance pop  \n",
       "601        dance pop  \n",
       "602       electropop  \n",
       "\n",
       "[603 rows x 3 columns]"
      ]
     },
     "execution_count": 17,
     "metadata": {},
     "output_type": "execute_result"
    }
   ],
   "source": [
    "Unnamed = song.loc[:, [\"title\", \"artist\", \"top genre\"]]\n",
    "Unnamed"
   ]
  },
  {
   "cell_type": "code",
   "execution_count": 18,
   "metadata": {},
   "outputs": [
    {
     "data": {
      "text/plain": [
       "dance pop                    327\n",
       "pop                           60\n",
       "canadian pop                  34\n",
       "barbadian pop                 15\n",
       "boy band                      15\n",
       "electropop                    13\n",
       "british soul                  11\n",
       "big room                      10\n",
       "neo mellow                     9\n",
       "canadian contemporary r&b      9\n",
       "art pop                        8\n",
       "hip pop                        6\n",
       "complextro                     6\n",
       "australian dance               6\n",
       "edm                            5\n",
       "atl hip hop                    5\n",
       "australian pop                 5\n",
       "permanent wave                 4\n",
       "latin                          4\n",
       "hip hop                        4\n",
       "tropical house                 3\n",
       "colombian pop                  3\n",
       "acoustic pop                   2\n",
       "folk-pop                       2\n",
       "brostep                        2\n",
       "canadian hip hop               2\n",
       "indie pop                      2\n",
       "downtempo                      2\n",
       "detroit hip hop                2\n",
       "electro                        2\n",
       "electronic trap                2\n",
       "escape room                    2\n",
       "belgian edm                    2\n",
       "baroque pop                    2\n",
       "candy pop                      2\n",
       "contemporary country           1\n",
       "irish singer-songwriter        1\n",
       "hollywood                      1\n",
       "celtic rock                    1\n",
       "chicago rap                    1\n",
       "alternative r&b                1\n",
       "australian hip hop             1\n",
       "french indie pop               1\n",
       "house                          1\n",
       "alaska indie                   1\n",
       "canadian latin                 1\n",
       "metropopolis                   1\n",
       "moroccan pop                   1\n",
       "danish pop                     1\n",
       "electro house                  1\n",
       "Name: top genre, dtype: int64"
      ]
     },
     "execution_count": 18,
     "metadata": {},
     "output_type": "execute_result"
    }
   ],
   "source": [
    "song_demographics_total = Unnamed[\"top genre\"].value_counts()\n",
    "song_demographics_total"
   ]
  },
  {
   "cell_type": "code",
   "execution_count": 19,
   "metadata": {},
   "outputs": [
    {
     "data": {
      "text/html": [
       "<div>\n",
       "<style scoped>\n",
       "    .dataframe tbody tr th:only-of-type {\n",
       "        vertical-align: middle;\n",
       "    }\n",
       "\n",
       "    .dataframe tbody tr th {\n",
       "        vertical-align: top;\n",
       "    }\n",
       "\n",
       "    .dataframe thead th {\n",
       "        text-align: right;\n",
       "    }\n",
       "</style>\n",
       "<table border=\"1\" class=\"dataframe\">\n",
       "  <thead>\n",
       "    <tr style=\"text-align: right;\">\n",
       "      <th></th>\n",
       "      <th>Unnamed: 0</th>\n",
       "      <th>title</th>\n",
       "      <th>artist</th>\n",
       "      <th>top genre</th>\n",
       "      <th>year</th>\n",
       "      <th>bpm</th>\n",
       "      <th>nrgy</th>\n",
       "      <th>dnce</th>\n",
       "      <th>dB</th>\n",
       "      <th>live</th>\n",
       "      <th>val</th>\n",
       "      <th>dur</th>\n",
       "      <th>acous</th>\n",
       "      <th>spch</th>\n",
       "      <th>pop</th>\n",
       "    </tr>\n",
       "  </thead>\n",
       "  <tbody>\n",
       "    <tr>\n",
       "      <th>570</th>\n",
       "      <td>571</td>\n",
       "      <td>Drip (feat. Migos)</td>\n",
       "      <td>Cardi B</td>\n",
       "      <td>pop</td>\n",
       "      <td>2018</td>\n",
       "      <td>130</td>\n",
       "      <td>59</td>\n",
       "      <td>97</td>\n",
       "      <td>-8</td>\n",
       "      <td>8</td>\n",
       "      <td>27</td>\n",
       "      <td>264</td>\n",
       "      <td>5</td>\n",
       "      <td>26</td>\n",
       "      <td>45</td>\n",
       "    </tr>\n",
       "    <tr>\n",
       "      <th>539</th>\n",
       "      <td>540</td>\n",
       "      <td>Bad Liar</td>\n",
       "      <td>Selena Gomez</td>\n",
       "      <td>dance pop</td>\n",
       "      <td>2018</td>\n",
       "      <td>121</td>\n",
       "      <td>41</td>\n",
       "      <td>97</td>\n",
       "      <td>-6</td>\n",
       "      <td>8</td>\n",
       "      <td>73</td>\n",
       "      <td>215</td>\n",
       "      <td>19</td>\n",
       "      <td>7</td>\n",
       "      <td>75</td>\n",
       "    </tr>\n",
       "    <tr>\n",
       "      <th>257</th>\n",
       "      <td>258</td>\n",
       "      <td>Anaconda</td>\n",
       "      <td>Nicki Minaj</td>\n",
       "      <td>dance pop</td>\n",
       "      <td>2014</td>\n",
       "      <td>130</td>\n",
       "      <td>60</td>\n",
       "      <td>96</td>\n",
       "      <td>-6</td>\n",
       "      <td>21</td>\n",
       "      <td>65</td>\n",
       "      <td>260</td>\n",
       "      <td>7</td>\n",
       "      <td>18</td>\n",
       "      <td>50</td>\n",
       "    </tr>\n",
       "    <tr>\n",
       "      <th>389</th>\n",
       "      <td>390</td>\n",
       "      <td>Me Too</td>\n",
       "      <td>Meghan Trainor</td>\n",
       "      <td>dance pop</td>\n",
       "      <td>2016</td>\n",
       "      <td>124</td>\n",
       "      <td>69</td>\n",
       "      <td>93</td>\n",
       "      <td>-6</td>\n",
       "      <td>48</td>\n",
       "      <td>84</td>\n",
       "      <td>181</td>\n",
       "      <td>10</td>\n",
       "      <td>10</td>\n",
       "      <td>73</td>\n",
       "    </tr>\n",
       "    <tr>\n",
       "      <th>477</th>\n",
       "      <td>478</td>\n",
       "      <td>Bodak Yellow</td>\n",
       "      <td>Cardi B</td>\n",
       "      <td>pop</td>\n",
       "      <td>2017</td>\n",
       "      <td>125</td>\n",
       "      <td>72</td>\n",
       "      <td>93</td>\n",
       "      <td>-6</td>\n",
       "      <td>35</td>\n",
       "      <td>46</td>\n",
       "      <td>224</td>\n",
       "      <td>7</td>\n",
       "      <td>11</td>\n",
       "      <td>70</td>\n",
       "    </tr>\n",
       "  </tbody>\n",
       "</table>\n",
       "</div>"
      ],
      "text/plain": [
       "     Unnamed: 0               title          artist  top genre  year  bpm  \\\n",
       "570         571  Drip (feat. Migos)         Cardi B        pop  2018  130   \n",
       "539         540            Bad Liar    Selena Gomez  dance pop  2018  121   \n",
       "257         258            Anaconda     Nicki Minaj  dance pop  2014  130   \n",
       "389         390              Me Too  Meghan Trainor  dance pop  2016  124   \n",
       "477         478        Bodak Yellow         Cardi B        pop  2017  125   \n",
       "\n",
       "     nrgy  dnce  dB  live  val  dur  acous  spch  pop  \n",
       "570    59    97  -8     8   27  264      5    26   45  \n",
       "539    41    97  -6     8   73  215     19     7   75  \n",
       "257    60    96  -6    21   65  260      7    18   50  \n",
       "389    69    93  -6    48   84  181     10    10   73  \n",
       "477    72    93  -6    35   46  224      7    11   70  "
      ]
     },
     "execution_count": 19,
     "metadata": {},
     "output_type": "execute_result"
    }
   ],
   "source": [
    "popular_formatted = song.sort_values([\"dnce\"], ascending=False).head()\n",
    "popular_formatted"
   ]
  },
  {
   "cell_type": "markdown",
   "metadata": {},
   "source": [
    "Now, I want to use the pandas dataframe to see the number of songs an artist has in the top top 10 streamed and to create a quick graph of the top 10."
   ]
  },
  {
   "cell_type": "code",
   "execution_count": 20,
   "metadata": {},
   "outputs": [
    {
     "name": "stdout",
     "output_type": "stream",
     "text": [
      "Unnamed: 0  title                                artist            top genre   year  bpm  nrgy  dnce  dB  live  val  dur  acous  spch  pop\n",
      "603         Kills You Slowly                     The Chainsmokers  electropop  2019  150  44    70    -9  13    23   213  6      6     67     1\n",
      "207         Give It 2 U                          Robin Thicke      dance pop   2013  127  83    67    -4  16    58   230  10     7     41     1\n",
      "205         Overdose                             Ciara             dance pop   2013  107  70    77    -6  6     79   227  1      3     43     1\n",
      "204         People Like Us                       Kelly Clarkson    dance pop   2013  128  79    60    -5  36    61   259  4      4     45     1\n",
      "203         Ooh La La (from \"The Smurfs 2\")      Britney Spears    dance pop   2013  128  57    69    -5  11    73   257  2      5     45     1\n",
      "202         Crazy Kids (feat. will.i.am)         Kesha             dance pop   2013  128  75    72    -4  13    50   229  4      4     46     1\n",
      "201         How Ya Doin'? (feat. Missy Elliott)  Little Mix        dance pop   2013  201  95    36    -3  37    51   211  9      48    50     1\n",
      "200         #Beautiful                           Mariah Carey      dance pop   2013  107  76    68    -5  31    45   200  29     4     51     1\n",
      "199         Pom Poms                             Jonas Brothers    boy band    2013  148  98    68    -2  28    90   198  7      9     52     1\n",
      "198         Finally Found You                    Enrique Iglesias  dance pop   2013  128  88    62    -5  35    66   221  1      10    52     1\n",
      "dtype: int64\n"
     ]
    },
    {
     "data": {
      "image/png": "[encoded data removed]",
      "text/plain": [
       "<Figure size 432x288 with 1 Axes>"
      ]
     },
     "metadata": {
      "needs_background": "light"
     },
     "output_type": "display_data"
    }
   ],
   "source": [
    "print(song.value_counts().head(10))\n",
    "# plotting the top ten song and how many of their songs were in the most dancerble\n",
    "plt.show(song['dnce'].value_counts().head(10).plot(kind='bar', title='Songs in Most Streamed for These artists'))"
   ]
  },
  {
   "cell_type": "markdown",
   "metadata": {},
   "source": [
    "Now onto a bit more data analysis. Next I'm going to define what a 'good' danceability is:"
   ]
  },
  {
   "cell_type": "code",
   "execution_count": 21,
   "metadata": {},
   "outputs": [],
   "source": [
    "very_dance = song['dnce'] >= 0.75\n",
    "meh_dance = (song['dnce'] >= 0.5) & (song['dnce'] < 0.75)\n",
    "not_dance = song['dnce'] < 0.5\n",
    "# the danceability facotr of a song is a factor of both tempo and time signature-->Spotify calculated it as a decimal value"
   ]
  },
  {
   "cell_type": "markdown",
   "metadata": {},
   "source": [
    "Determining the percentages of songs that make up the categories I had defined"
   ]
  },
  {
   "cell_type": "code",
   "execution_count": 22,
   "metadata": {},
   "outputs": [
    {
     "name": "stdout",
     "output_type": "stream",
     "text": [
      "                percent\n",
      "Very Danceable      602\n",
      "Regular               0\n",
      "Not Really            1\n"
     ]
    }
   ],
   "source": [
    "dance_data = [very_dance.sum(), meh_dance.sum(), not_dance.sum()]\n",
    "Dance = pd.DataFrame(dance_data, columns=['percent'],\n",
    "                     index=['Very Danceable', 'Regular', 'Not Really'])\n",
    "print(Dance)"
   ]
  },
  {
   "cell_type": "markdown",
   "metadata": {},
   "source": [
    "A Density Plot visualises the distribution of data over a continuous interval or time period. This chart is a variation of a Histogram that uses kernel smoothing to plot values, allowing for smoother distributions by smoothing out the noise."
   ]
  },
  {
   "cell_type": "code",
   "execution_count": 23,
   "metadata": {},
   "outputs": [
    {
     "data": {
      "image/png": "[encoded data removed]",
      "text/plain": [
       "<Figure size 432x288 with 1 Axes>"
      ]
     },
     "metadata": {
      "needs_background": "light"
     },
     "output_type": "display_data"
    },
    {
     "name": "stderr",
     "output_type": "stream",
     "text": [
      "C:\\Users\\danie\\Anaconda3\\lib\\site-packages\\seaborn\\distributions.py:2551: FutureWarning: `distplot` is a deprecated function and will be removed in a future version. Please adapt your code to use either `displot` (a figure-level function with similar flexibility) or `histplot` (an axes-level function for histograms).\n",
      "  warnings.warn(msg, FutureWarning)\n"
     ]
    },
    {
     "data": {
      "image/png": "[encoded data removed]",
      "text/plain": [
       "<Figure size 432x288 with 1 Axes>"
      ]
     },
     "metadata": {
      "needs_background": "light"
     },
     "output_type": "display_data"
    }
   ],
   "source": [
    "\n",
    "song['dnce'].hist(color='red')\n",
    "plt.title('dnce vs. Number of Songs')\n",
    "plt.xlabel('dnce')\n",
    "plt.ylabel('Number of Songs')\n",
    "plt.show()\n",
    "\n",
    "sns.distplot(song['dnce'], hist=True, kde=True)\n",
    "plt.title('Distribution plot of dnce vs. Number of Songs')\n",
    "plt.xlabel('dnce')\n",
    "plt.ylabel('Number of Songs')\n",
    "plt.show()"
   ]
  },
  {
   "cell_type": "markdown",
   "metadata": {},
   "source": [
    "In the histograph, it's slightly skewed to the right—indicating that the majority of songs in the top 10 streamed are danceable.\n",
    "\n",
    "Next, I want to take a look at the energy of the songs to see if there's any correlation between the two. (I'm replicating the process from above—including the defining of the categories)"
   ]
  },
  {
   "cell_type": "code",
   "execution_count": 24,
   "metadata": {},
   "outputs": [],
   "source": [
    "# Here I'm defining the parameters:\n",
    "very_energetic = song['nrgy'] >= 0.75\n",
    "regular_nrgy = (song['nrgy'] >= 0.5) & (song['nrgy'] < 0.75)\n",
    "least_energetic = song['nrgy'] < 0.5"
   ]
  },
  {
   "cell_type": "code",
   "execution_count": 25,
   "metadata": {},
   "outputs": [
    {
     "name": "stdout",
     "output_type": "stream",
     "text": [
      "              percent\n",
      "Very nrgy         602\n",
      "Regular nrgy        0\n",
      "Low nrgy            1\n"
     ]
    }
   ],
   "source": [
    "# Next, I'm creating the dataframe:\n",
    "data2 = [very_energetic.sum(), regular_nrgy.sum(), least_energetic.sum()]\n",
    "nrgy = pd.DataFrame(data2, columns=['percent'],\n",
    "                      index=['Very nrgy', 'Regular nrgy', 'Low nrgy'])\n",
    "#And I'm going to print Energy\n",
    "print(nrgy)"
   ]
  },
  {
   "cell_type": "code",
   "execution_count": 26,
   "metadata": {},
   "outputs": [
    {
     "data": {
      "image/png": "[encoded data removed]",
      "text/plain": [
       "<Figure size 432x288 with 1 Axes>"
      ]
     },
     "metadata": {
      "needs_background": "light"
     },
     "output_type": "display_data"
    },
    {
     "name": "stderr",
     "output_type": "stream",
     "text": [
      "C:\\Users\\danie\\Anaconda3\\lib\\site-packages\\seaborn\\distributions.py:2551: FutureWarning: `distplot` is a deprecated function and will be removed in a future version. Please adapt your code to use either `displot` (a figure-level function with similar flexibility) or `histplot` (an axes-level function for histograms).\n",
      "  warnings.warn(msg, FutureWarning)\n"
     ]
    },
    {
     "data": {
      "image/png": "[encoded data removed]",
      "text/plain": [
       "<Figure size 432x288 with 1 Axes>"
      ]
     },
     "metadata": {
      "needs_background": "light"
     },
     "output_type": "display_data"
    }
   ],
   "source": [
    "song['nrgy'].hist(color='purple')\n",
    "plt.title('nrgy vs. Number of Songs')\n",
    "plt.xlabel('nrgy')\n",
    "plt.ylabel('Number of Songs')\n",
    "plt.show()\n",
    "\n",
    "sns.distplot(song['nrgy'], hist=True, kde=True, color='green')\n",
    "plt.title('Distribution plot of nrgy')\n",
    "plt.xlabel('nrgy')\n",
    "plt.ylabel('Number of Songs')\n",
    "plt.show()\n"
   ]
  },
  {
   "cell_type": "markdown",
   "metadata": {},
   "source": [
    "\n",
    "Now I'm going to go more into depth about the correlation of all the different values in the dataset\n",
    "\n",
    "In pandas, there's also a function called .corr()—it basically finds the correlation of the different variables in the dataset (closer to +/- 1 means a stronger positive/negative correlation)."
   ]
  },
  {
   "cell_type": "code",
   "execution_count": 27,
   "metadata": {},
   "outputs": [
    {
     "name": "stdout",
     "output_type": "stream",
     "text": [
      "            Unnamed: 0      year       bpm      nrgy      dnce        dB  \\\n",
      "Unnamed: 0    1.000000  0.989031 -0.114849 -0.214586  0.074920 -0.133914   \n",
      "year          0.989031  1.000000 -0.104247 -0.225596  0.079269 -0.126471   \n",
      "bpm          -0.114849 -0.104247  1.000000  0.126170 -0.131301  0.183870   \n",
      "nrgy         -0.214586 -0.225596  0.126170  1.000000  0.167209  0.537528   \n",
      "dnce          0.074920  0.079269 -0.131301  0.167209  1.000000  0.233170   \n",
      "dB           -0.133914 -0.126471  0.183870  0.537528  0.233170  1.000000   \n",
      "live         -0.129865 -0.136331  0.081579  0.186738 -0.028801  0.081934   \n",
      "val          -0.129002 -0.122025  0.016021  0.409577  0.501696  0.282922   \n",
      "dur          -0.210783 -0.215344 -0.029359 -0.143610 -0.176841 -0.104723   \n",
      "acous         0.096518  0.101725 -0.113257 -0.562287 -0.240064 -0.190401   \n",
      "spch          0.013672  0.004778  0.058999  0.107313 -0.028041 -0.001110   \n",
      "pop           0.150420  0.241261  0.018983 -0.057645  0.116054  0.156897   \n",
      "\n",
      "                live       val       dur     acous      spch       pop  \n",
      "Unnamed: 0 -0.129865 -0.129002 -0.210783  0.096518  0.013672  0.150420  \n",
      "year       -0.136331 -0.122025 -0.215344  0.101725  0.004778  0.241261  \n",
      "bpm         0.081579  0.016021 -0.029359 -0.113257  0.058999  0.018983  \n",
      "nrgy        0.186738  0.409577 -0.143610 -0.562287  0.107313 -0.057645  \n",
      "dnce       -0.028801  0.501696 -0.176841 -0.240064 -0.028041  0.116054  \n",
      "dB          0.081934  0.282922 -0.104723 -0.190401 -0.001110  0.156897  \n",
      "live        1.000000  0.020226  0.098339 -0.098167  0.144103 -0.075749  \n",
      "val         0.020226  1.000000 -0.262256 -0.249038  0.122013  0.038953  \n",
      "dur         0.098339 -0.262256  1.000000  0.091802  0.054564 -0.104363  \n",
      "acous      -0.098167 -0.249038  0.091802  1.000000  0.002763  0.026704  \n",
      "spch        0.144103  0.122013  0.054564  0.002763  1.000000 -0.041490  \n",
      "pop        -0.075749  0.038953 -0.104363  0.026704 -0.041490  1.000000  \n"
     ]
    }
   ],
   "source": [
    "print(song.corr())"
   ]
  },
  {
   "cell_type": "code",
   "execution_count": 28,
   "metadata": {},
   "outputs": [
    {
     "data": {
      "text/plain": [
       "Text(0.5, 1.0, 'The Correlation Between the Variables')"
      ]
     },
     "execution_count": 28,
     "metadata": {},
     "output_type": "execute_result"
    },
    {
     "data": {
      "image/png": "[encoded data removed]",
      "text/plain": [
       "<Figure size 432x288 with 2 Axes>"
      ]
     },
     "metadata": {
      "needs_background": "light"
     },
     "output_type": "display_data"
    }
   ],
   "source": [
    "Correlation=song[['dnce','nrgy','val','acous','pop']]\n",
    "sns.heatmap(Correlation.corr(), annot=True, cmap=\"YlOrRd\")\n",
    "plt.title(\"The Correlation Between the Variables\")\n",
    "# Here I'm using a heatmap to see the different values that correlate"
   ]
  },
  {
   "cell_type": "markdown",
   "metadata": {},
   "source": [
    "Two main variables that piqued my intrest were the danceability versus the energy of a song. So I wanted to plot the correlation of both the two using a joint plot from sns."
   ]
  },
  {
   "cell_type": "code",
   "execution_count": 29,
   "metadata": {},
   "outputs": [
    {
     "data": {
      "image/png": "[encoded data removed]",
      "text/plain": [
       "<Figure size 432x432 with 3 Axes>"
      ]
     },
     "metadata": {
      "needs_background": "light"
     },
     "output_type": "display_data"
    }
   ],
   "source": [
    "sns.jointplot(data=Correlation, y='nrgy', x='dnce', kind='reg', color='red')\n",
    "plt.title(\"Comparing Both nrgy and dnce Using Their Correlation\")\n",
    "plt.show()"
   ]
  },
  {
   "cell_type": "markdown",
   "metadata": {},
   "source": [
    "\n",
    "As the values of danceability are higher than zero the probability that our song has a high content of rhythms is higher, in general these values should be kept below zero but not very far away.\n",
    "\n",
    "Taking a Look at pop\n",
    "\n",
    "To take a better look into pop, I want to define the pop using the bpm (ex. a tempo of about 110bpm is technically considered Allegro—there is always some leeway, too)."
   ]
  },
  {
   "cell_type": "code",
   "execution_count": 30,
   "metadata": {},
   "outputs": [],
   "source": [
    "song['bpm'] = song['pop']\n",
    "song.loc[song['pop'] > 168, 'bpm'] = 'Presto'\n",
    "song.loc[(song['pop'] >= 110) & (song['pop'] <= 168), 'bpm'] = 'Allegro'\n",
    "song.loc[(song['pop'] >= 76) & (song['pop'] <= 108), 'bpm'] = 'Andante'\n",
    "song.loc[(song['pop'] >= 66) & (song['pop'] <= 76), 'bpm'] = 'Adagio'\n",
    "song.loc[song['pop'] < 65, 'bpm'] = 'Largo'"
   ]
  },
  {
   "cell_type": "markdown",
   "metadata": {},
   "source": [
    "Now to graph pop and the amount of songs that were classified as such."
   ]
  },
  {
   "cell_type": "code",
   "execution_count": 31,
   "metadata": {},
   "outputs": [
    {
     "data": {
      "image/png": "[encoded data removed]",
      "text/plain": [
       "<Figure size 432x288 with 1 Axes>"
      ]
     },
     "metadata": {
      "needs_background": "light"
     },
     "output_type": "display_data"
    }
   ],
   "source": [
    "song['bpm'].value_counts()\n",
    "Rhy = song['bpm'].value_counts()\n",
    "Rhy_DF = pd.DataFrame(Rhy)\n",
    "sns.barplot(x=Rhy_DF.bpm, y=Rhy_DF.index, palette=\"rainbow\")\n",
    "plt.xlabel('The Total Amount of Songs')\n",
    "plt.ylabel('pop')\n",
    "plt.title('pop and the Correlating Amount of Songs')\n",
    "plt.show()\n"
   ]
  },
  {
   "cell_type": "markdown",
   "metadata": {},
   "source": [
    "With the graph, we can definitely see a lot of the songs in the top 10 are allegro and andante, definitely suggesting that these pops are used quite a lot."
   ]
  },
  {
   "cell_type": "code",
   "execution_count": 32,
   "metadata": {},
   "outputs": [
    {
     "data": {
      "text/plain": [
       "Adagio     225\n",
       "Largo      208\n",
       "Andante    147\n",
       "65          23\n",
       "Name: bpm, dtype: int64"
      ]
     },
     "execution_count": 32,
     "metadata": {},
     "output_type": "execute_result"
    }
   ],
   "source": [
    "# Here I want to give the actual values for the amount in each category\n",
    "song['bpm'].value_counts()"
   ]
  },
  {
   "cell_type": "markdown",
   "metadata": {},
   "source": [
    "\n",
    "The Tonality of the Songs\n",
    "\n",
    "Now I want to take the time to analyze how the spch of the song (whether it's major or minor) has variables that have more importance or not."
   ]
  },
  {
   "cell_type": "code",
   "execution_count": 33,
   "metadata": {},
   "outputs": [],
   "source": [
    "# creating new dataframes seperated by their modes\n",
    "Major = song[song['spch'] == 1]\n",
    "Minor = song[song['spch'] == 0]\n",
    "\n",
    "# Using danceability to streamline the data further\n",
    "MajorD = Major[Major['dnce'] >= 0.5]\n",
    "MinorD = Minor[Minor['dnce'] >= 0.5]\n",
    "\n",
    "#Dropping columns that don't have any use (mode we already defined and know because of the dataset's name)\n",
    "MajorD = Major.drop(columns=['spch', 'dur'])\n",
    "MinorD = Minor.drop(columns=['spch', 'dur'])"
   ]
  },
  {
   "cell_type": "markdown",
   "metadata": {},
   "source": [
    "Next I want to see the correlation of the values in the data and compare them against each other"
   ]
  },
  {
   "cell_type": "code",
   "execution_count": 41,
   "metadata": {},
   "outputs": [
    {
     "name": "stdout",
     "output_type": "stream",
     "text": [
      "Empty DataFrame\n",
      "Columns: [dnce, nrgy, val, acous, pop]\n",
      "Index: []\n"
     ]
    },
    {
     "name": "stderr",
     "output_type": "stream",
     "text": [
      "C:\\Users\\danie\\Anaconda3\\lib\\site-packages\\seaborn\\matrix.py:204: RuntimeWarning: All-NaN slice encountered\n",
      "  vmin = np.nanmin(calc_data)\n",
      "C:\\Users\\danie\\Anaconda3\\lib\\site-packages\\seaborn\\matrix.py:209: RuntimeWarning: All-NaN slice encountered\n",
      "  vmax = np.nanmax(calc_data)\n"
     ]
    },
    {
     "data": {
      "image/png": "[encoded data removed]",
      "text/plain": [
       "<Figure size 432x288 with 2 Axes>"
      ]
     },
     "metadata": {
      "needs_background": "light"
     },
     "output_type": "display_data"
    },
    {
     "data": {
      "image/png": "[encoded data removed]",
      "text/plain": [
       "<Figure size 432x288 with 2 Axes>"
      ]
     },
     "metadata": {
      "needs_background": "light"
     },
     "output_type": "display_data"
    }
   ],
   "source": [
    "# Here I'm making a dataframe with the variables I want to see correlation in\n",
    "MajcorD = MajorD[['dnce', 'nrgy', 'val', 'acous', 'pop']]\n",
    "MinorcorD = MinorD[['dnce', 'nrgy', 'val', 'acous', 'pop']]\n",
    "print(MajcorD.head())\n",
    "\n",
    "# Next graphing such values\n",
    "sns.heatmap(MajcorD.corr(), annot=True, cmap=\"RdGy\")\n",
    "plt.title('Correlation for Songs in a Major Key')\n",
    "plt.show()\n",
    "\n",
    "sns.heatmap(MinorcorD.corr(), annot=True, cmap=\"Greys\")\n",
    "plt.title('Correlation for Songs in a Minor Key')\n",
    "plt.show()"
   ]
  },
  {
   "cell_type": "markdown",
   "metadata": {},
   "source": [
    "\n",
    "Looking at the graphs above there are certain values that correlate a lot more for the different modality. In minor songs, acous and energy are more closely correlated than that in a Major bpm  (same with acost and valence, how happy it sounds)—possibly more minor-sounding songs are much easier to have more freedom versus the restrictive nature of major keys (from a music composition view). There differences in the correlation in the types modes.\n",
    "\n",
    "Now I want to see how prevalent a bpm  is in the top 10 songs."
   ]
  },
  {
   "cell_type": "code",
   "execution_count": 35,
   "metadata": {},
   "outputs": [],
   "source": [
    "# Converting standard Pitch Class notation to the normal letter: 0 = C, 1 = C♯/D♭, 2 = D, and so on.\n",
    "song.loc[ song['bpm'] == 0 ,'bpm'] ='C'    \n",
    "song.loc[ song['bpm'] == 1 ,'bpm'] ='C#'    \n",
    "song.loc[ song['bpm'] == 2 ,'bpm'] ='D'    \n",
    "song.loc[ song['bpm'] == 3 ,'bpm'] ='D#'    \n",
    "song.loc[ song['bpm'] == 4 ,'bpm'] ='E'    \n",
    "song.loc[ song['bpm'] == 5 ,'bpm'] ='F'    \n",
    "song.loc[ song['bpm'] == 6 ,'bpm'] ='F#'    \n",
    "song.loc[ song['bpm'] == 7 ,'bpm'] ='G'    \n",
    "song.loc[ song['bpm'] == 8 ,'bpm'] ='G#'    \n",
    "song.loc[ song['bpm'] == 9 ,'bpm'] ='A'    \n",
    "song.loc[ song['bpm'] == 10 ,'bpm'] ='A#' \n",
    "song.loc[ song['bpm'] == 11 ,'bpm'] ='B'"
   ]
  },
  {
   "cell_type": "code",
   "execution_count": 36,
   "metadata": {},
   "outputs": [
    {
     "data": {
      "image/png": "[encoded data removed]",
      "text/plain": [
       "<Figure size 432x288 with 1 Axes>"
      ]
     },
     "metadata": {
      "needs_background": "light"
     },
     "output_type": "display_data"
    }
   ],
   "source": [
    "# building the graph with the total value counts\n",
    "bpm = song['bpm'].value_counts()\n",
    "bpm_DF = pd.DataFrame(bpm)\n",
    "sns.barplot(x=bpm_DF.bpm, y=bpm_DF.index, palette=\"pastel\")\n",
    "plt.ylabel('bpm')\n",
    "plt.xlabel('Number of Songs')\n",
    "plt.title('Popular bpm')\n",
    "plt.show()"
   ]
  }
 ],
 "metadata": {
  "kernelspec": {
   "display_name": "Python 3",
   "language": "python",
   "name": "python3"
  },
  "language_info": {
   "codemirror_mode": {
    "name": "ipython",
    "version": 3
   },
   "file_extension": ".py",
   "mimetype": "text/x-python",
   "name": "python",
   "nbconvert_exporter": "python",
   "pygments_lexer": "ipython3",
   "version": "3.8.5"
  }
 },
 "nbformat": 4,
 "nbformat_minor": 4
}
