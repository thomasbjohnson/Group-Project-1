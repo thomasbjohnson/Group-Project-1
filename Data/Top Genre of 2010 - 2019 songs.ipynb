{
 "cells": [
  {
   "cell_type": "markdown",
   "metadata": {},
   "source": [
    "\n",
    "Analyzing the Top 10 Songs 2010 to 2019 from Spotify\n",
    "\n",
    "The basic premise behind the project is to answer several research based questions.\n",
    "\n",
    "How can I represent the different variables in a way that makes sense.\n",
    "\n",
    "Which genre has the most songs in the billboard\n",
    "\n",
    "\n",
    "\n"
   ]
  },
  {
   "cell_type": "code",
   "execution_count": 3,
   "metadata": {},
   "outputs": [
    {
     "data": {
      "text/html": [
       "<div>\n",
       "<style scoped>\n",
       "    .dataframe tbody tr th:only-of-type {\n",
       "        vertical-align: middle;\n",
       "    }\n",
       "\n",
       "    .dataframe tbody tr th {\n",
       "        vertical-align: top;\n",
       "    }\n",
       "\n",
       "    .dataframe thead th {\n",
       "        text-align: right;\n",
       "    }\n",
       "</style>\n",
       "<table border=\"1\" class=\"dataframe\">\n",
       "  <thead>\n",
       "    <tr style=\"text-align: right;\">\n",
       "      <th></th>\n",
       "      <th>Unnamed: 0</th>\n",
       "      <th>title</th>\n",
       "      <th>artist</th>\n",
       "      <th>top genre</th>\n",
       "      <th>year</th>\n",
       "      <th>bpm</th>\n",
       "      <th>nrgy</th>\n",
       "      <th>dnce</th>\n",
       "      <th>dB</th>\n",
       "      <th>live</th>\n",
       "      <th>val</th>\n",
       "      <th>dur</th>\n",
       "      <th>acous</th>\n",
       "      <th>spch</th>\n",
       "      <th>pop</th>\n",
       "    </tr>\n",
       "  </thead>\n",
       "  <tbody>\n",
       "    <tr>\n",
       "      <th>0</th>\n",
       "      <td>1</td>\n",
       "      <td>Hey, Soul Sister</td>\n",
       "      <td>Train</td>\n",
       "      <td>neo mellow</td>\n",
       "      <td>2010</td>\n",
       "      <td>97</td>\n",
       "      <td>89</td>\n",
       "      <td>67</td>\n",
       "      <td>-4</td>\n",
       "      <td>8</td>\n",
       "      <td>80</td>\n",
       "      <td>217</td>\n",
       "      <td>19</td>\n",
       "      <td>4</td>\n",
       "      <td>83</td>\n",
       "    </tr>\n",
       "    <tr>\n",
       "      <th>1</th>\n",
       "      <td>2</td>\n",
       "      <td>Love The Way You Lie</td>\n",
       "      <td>Eminem</td>\n",
       "      <td>detroit hip hop</td>\n",
       "      <td>2010</td>\n",
       "      <td>87</td>\n",
       "      <td>93</td>\n",
       "      <td>75</td>\n",
       "      <td>-5</td>\n",
       "      <td>52</td>\n",
       "      <td>64</td>\n",
       "      <td>263</td>\n",
       "      <td>24</td>\n",
       "      <td>23</td>\n",
       "      <td>82</td>\n",
       "    </tr>\n",
       "    <tr>\n",
       "      <th>2</th>\n",
       "      <td>3</td>\n",
       "      <td>TiK ToK</td>\n",
       "      <td>Kesha</td>\n",
       "      <td>dance pop</td>\n",
       "      <td>2010</td>\n",
       "      <td>120</td>\n",
       "      <td>84</td>\n",
       "      <td>76</td>\n",
       "      <td>-3</td>\n",
       "      <td>29</td>\n",
       "      <td>71</td>\n",
       "      <td>200</td>\n",
       "      <td>10</td>\n",
       "      <td>14</td>\n",
       "      <td>80</td>\n",
       "    </tr>\n",
       "    <tr>\n",
       "      <th>3</th>\n",
       "      <td>4</td>\n",
       "      <td>Bad Romance</td>\n",
       "      <td>Lady Gaga</td>\n",
       "      <td>dance pop</td>\n",
       "      <td>2010</td>\n",
       "      <td>119</td>\n",
       "      <td>92</td>\n",
       "      <td>70</td>\n",
       "      <td>-4</td>\n",
       "      <td>8</td>\n",
       "      <td>71</td>\n",
       "      <td>295</td>\n",
       "      <td>0</td>\n",
       "      <td>4</td>\n",
       "      <td>79</td>\n",
       "    </tr>\n",
       "    <tr>\n",
       "      <th>4</th>\n",
       "      <td>5</td>\n",
       "      <td>Just the Way You Are</td>\n",
       "      <td>Bruno Mars</td>\n",
       "      <td>pop</td>\n",
       "      <td>2010</td>\n",
       "      <td>109</td>\n",
       "      <td>84</td>\n",
       "      <td>64</td>\n",
       "      <td>-5</td>\n",
       "      <td>9</td>\n",
       "      <td>43</td>\n",
       "      <td>221</td>\n",
       "      <td>2</td>\n",
       "      <td>4</td>\n",
       "      <td>78</td>\n",
       "    </tr>\n",
       "  </tbody>\n",
       "</table>\n",
       "</div>"
      ],
      "text/plain": [
       "   Unnamed: 0                 title      artist        top genre  year  bpm  \\\n",
       "0           1      Hey, Soul Sister       Train       neo mellow  2010   97   \n",
       "1           2  Love The Way You Lie      Eminem  detroit hip hop  2010   87   \n",
       "2           3               TiK ToK       Kesha        dance pop  2010  120   \n",
       "3           4           Bad Romance   Lady Gaga        dance pop  2010  119   \n",
       "4           5  Just the Way You Are  Bruno Mars              pop  2010  109   \n",
       "\n",
       "   nrgy  dnce  dB  live  val  dur  acous  spch  pop  \n",
       "0    89    67  -4     8   80  217     19     4   83  \n",
       "1    93    75  -5    52   64  263     24    23   82  \n",
       "2    84    76  -3    29   71  200     10    14   80  \n",
       "3    92    70  -4     8   71  295      0     4   79  \n",
       "4    84    64  -5     9   43  221      2     4   78  "
      ]
     },
     "execution_count": 3,
     "metadata": {},
     "output_type": "execute_result"
    }
   ],
   "source": [
    "# Dependencies and Setup\n",
    "import pandas as pd\n",
    "import matplotlib.pyplot as plt\n",
    "music = \"top10s.csv\"\n",
    "song = pd.read_csv(music,encoding = \"cp1252\")\n",
    "import seaborn as sns\n",
    "\n",
    "song.head()"
   ]
  },
  {
   "cell_type": "markdown",
   "metadata": {},
   "source": [
    "Now, I want to use the pandas dataframe to see the number of songs an artist has in the top top 10 streamed and to create a quick graph of the top 10."
   ]
  },
  {
   "cell_type": "code",
   "execution_count": 4,
   "metadata": {},
   "outputs": [
    {
     "name": "stdout",
     "output_type": "stream",
     "text": [
      "<bound method NDFrame.head of Pop        493\n",
      "Electro     45\n",
      "Hip Pop     24\n",
      "R&B         22\n",
      "Name: Genre, dtype: int64>\n"
     ]
    }
   ],
   "source": [
    "#replace genre title\n",
    "song[\"Genre\"]= song[\"top genre\"].replace(to_replace=['dance pop', 'pop'], value=\"Pop\", regex=True)\n",
    "song[\"Genre\"]= song[\"Genre\"].replace(to_replace=['canadian Pop','barbadian Pop', 'electroPop', 'art Pop', 'australian Pop',\n",
    "                                      'colombian Pop','colombian Pop', 'acoustic Pop','folk-Pop', 'candy Pop','indie Pop','baroque Pop','moroccan Pop','french Pop','danish Pop','boy band'], value=\"Pop\", regex=True)\n",
    "song[\"Genre\"]= song[\"Genre\"].replace(to_replace=['detroit hip hop','atl hip hop','hip Pop', 'hip hop', 'canadian hip hop','canadian Hip Pop','electronic trap','australian Hip Pop','chicago rap','alternative r&b']\n",
    "                                     , value=\"Hip Pop\", regex=True)\n",
    "song[\"Genre\"]= song[\"Genre\"].replace(to_replace=['neo mellow','complextro','edm', 'permanent wave', 'tropical house','belgian edm','electro','electro house','house','big room','belgian Electro','Electro Electro','brostep','belgian Electro']\n",
    "                                     , value=\"Electro\", regex=True)\n",
    "song[\"Genre\"]= song[\"Genre\"].replace(to_replace=['latin','canadian latin']\n",
    "                                     , value=\"Latino\", regex=True)\n",
    "song[\"Genre\"]= song[\"Genre\"].replace(to_replace=['canadian contemporary r&b','downtempo', \"british soul\"]\n",
    "                                     , value=\"R&B\", regex=True)\n",
    "\n",
    "#Create clead data\n",
    "\n",
    "song= song.loc[(song[\"Genre\"]== \"Pop\") |(song[\"Genre\"]== \"Electro\") | (song[\"Genre\"]== \"Hip Pop\") | (song[\"Genre\"]== \"R&B\") | (song[\"Genre\"]== \"Latino \"), :]\n",
    "clean_data_df=song[\"Genre\"].value_counts()\n",
    "print(clean_data_df.head)"
   ]
  },
  {
   "cell_type": "code",
   "execution_count": 5,
   "metadata": {},
   "outputs": [
    {
     "data": {
      "image/png": "[encoded data removed]",
      "text/plain": [
       "<Figure size 432x288 with 1 Axes>"
      ]
     },
     "metadata": {
      "needs_background": "light"
     },
     "output_type": "display_data"
    }
   ],
   "source": [
    "\n",
    "# plotting the top ten song and how many of their songs were in the most dancerble\n",
    "graph= plt.show(clean_data_df.plot(kind='bar', title='Songs in Most Streamed by genre'))\n"
   ]
  },
  {
   "cell_type": "markdown",
   "metadata": {},
   "source": [
    "Now onto a bit more data analysis. Next I'm going to define what a 'good' danceability is:"
   ]
  },
  {
   "cell_type": "code",
   "execution_count": 6,
   "metadata": {},
   "outputs": [
    {
     "data": {
      "text/plain": [
       "(0.0, 100.0)"
      ]
     },
     "execution_count": 6,
     "metadata": {},
     "output_type": "execute_result"
    },
    {
     "data": {
      "image/png": "[encoded data removed]",
      "text/plain": [
       "<Figure size 1080x720 with 1 Axes>"
      ]
     },
     "metadata": {
      "needs_background": "light"
     },
     "output_type": "display_data"
    }
   ],
   "source": [
    "#Boxplot\n",
    "Pop= song.loc[song[\"Genre\"]== \"Pop\", \"dnce\"]\n",
    "Electro= song.loc[song[\"Genre\"]== \"Electro\", \"dnce\"]\n",
    "RnB= song.loc[song[\"Genre\"]== \"R&B\", \"dnce\"]\n",
    "hp= song.loc[song[\"Genre\"]== \"Hip Pop\", \"dnce\"]\n",
    "data_to_plot=[Pop, Electro, RnB, hp]\n",
    "names=[\"Pop\", \"Electro\", \"R&B\", \"Hip Pop\"]\n",
    "fig1, ax1 = plt.subplots(figsize=(15, 10))\n",
    "ax1.set_title('Danceability per genre',fontsize =25)\n",
    "ax1.set_ylabel('Danceability',fontsize = 14)\n",
    "ax1.set_xlabel('Genres',fontsize = 14)\n",
    "ax1.boxplot(data_to_plot, labels=names, widths = 0.4, patch_artist=True,vert=True)\n",
    "\n",
    "plt.ylim(0, 100)\n",
    "\n",
    "\n",
    "\n",
    "# the danceability facotr of a song is a factor of both tempo and time signature-->Spotify calculated it as a decimal value"
   ]
  },
  {
   "cell_type": "markdown",
   "metadata": {},
   "source": [
    "Determining the percentages of songs that make up the categories defined"
   ]
  },
  {
   "cell_type": "code",
   "execution_count": 7,
   "metadata": {},
   "outputs": [
    {
     "data": {
      "text/plain": [
       "(0.0, 100.0)"
      ]
     },
     "execution_count": 7,
     "metadata": {},
     "output_type": "execute_result"
    },
    {
     "data": {
      "image/png": "[encoded data removed]",
      "text/plain": [
       "<Figure size 1080x720 with 1 Axes>"
      ]
     },
     "metadata": {
      "needs_background": "light"
     },
     "output_type": "display_data"
    }
   ],
   "source": [
    "Pop= song.loc[song[\"Genre\"]== \"Pop\", \"nrgy\"]\n",
    "Electro= song.loc[song[\"Genre\"]== \"Electro\", \"nrgy\"]\n",
    "RnB= song.loc[song[\"Genre\"]== \"R&B\", \"nrgy\"]\n",
    "hp= song.loc[song[\"Genre\"]== \"Hip Pop\", \"nrgy\"]\n",
    "data_to_plot=[Pop, Electro, RnB, hp]\n",
    "names=[\"Pop\", \"Electro\", \"R&B\", \"Hip Pop\"]\n",
    "fig1, ax1 = plt.subplots(figsize=(15, 10))\n",
    "ax1.set_title('Energy per genre',fontsize =25)\n",
    "ax1.set_ylabel('Energy',fontsize = 14)\n",
    "ax1.set_xlabel('Genres',fontsize = 14)\n",
    "ax1.boxplot(data_to_plot, labels=names, widths = 0.4, patch_artist=True,vert=True)\n",
    "\n",
    "plt.ylim(0, 100)"
   ]
  },
  {
   "cell_type": "markdown",
   "metadata": {},
   "source": [
    "Now I'm going to go more into depth about the correlation of all the different values in the dataset\n",
    "\n",
    "In pandas, there's also a function called .corr()—it basically finds the correlation of the different variables in the dataset (closer to +/- 1 means a stronger positive/negative correlation)."
   ]
  },
  {
   "cell_type": "code",
   "execution_count": 8,
   "metadata": {},
   "outputs": [
    {
     "name": "stdout",
     "output_type": "stream",
     "text": [
      "            Unnamed: 0      year       bpm      nrgy      dnce        dB  \\\n",
      "Unnamed: 0    1.000000  0.989158 -0.123086 -0.222094  0.073594 -0.146068   \n",
      "year          0.989158  1.000000 -0.112089 -0.234929  0.079119 -0.139225   \n",
      "bpm          -0.123086 -0.112089  1.000000  0.129107 -0.143582  0.187788   \n",
      "nrgy         -0.222094 -0.234929  0.129107  1.000000  0.169966  0.533130   \n",
      "dnce          0.073594  0.079119 -0.143582  0.169966  1.000000  0.249791   \n",
      "dB           -0.146068 -0.139225  0.187788  0.533130  0.249791  1.000000   \n",
      "live         -0.140597 -0.147316  0.091283  0.183218 -0.040327  0.077678   \n",
      "val          -0.135260 -0.128024  0.005599  0.404154  0.509593  0.282511   \n",
      "dur          -0.204909 -0.208119 -0.029582 -0.135793 -0.169222 -0.099673   \n",
      "acous         0.093516  0.099362 -0.109514 -0.567371 -0.237603 -0.196926   \n",
      "spch          0.009924  0.001043  0.042617  0.103056 -0.037801 -0.002853   \n",
      "pop           0.154013  0.243577  0.020061 -0.079342  0.116699  0.150479   \n",
      "\n",
      "                live       val       dur     acous      spch       pop  \n",
      "Unnamed: 0 -0.140597 -0.135260 -0.204909  0.093516  0.009924  0.154013  \n",
      "year       -0.147316 -0.128024 -0.208119  0.099362  0.001043  0.243577  \n",
      "bpm         0.091283  0.005599 -0.029582 -0.109514  0.042617  0.020061  \n",
      "nrgy        0.183218  0.404154 -0.135793 -0.567371  0.103056 -0.079342  \n",
      "dnce       -0.040327  0.509593 -0.169222 -0.237603 -0.037801  0.116699  \n",
      "dB          0.077678  0.282511 -0.099673 -0.196926 -0.002853  0.150479  \n",
      "live        1.000000  0.023675  0.114826 -0.103976  0.156064 -0.088557  \n",
      "val         0.023675  1.000000 -0.260611 -0.243790  0.112707  0.037485  \n",
      "dur         0.114826 -0.260611  1.000000  0.081106  0.059587 -0.089580  \n",
      "acous      -0.103976 -0.243790  0.081106  1.000000  0.011587  0.034496  \n",
      "spch        0.156064  0.112707  0.059587  0.011587  1.000000 -0.054564  \n",
      "pop        -0.088557  0.037485 -0.089580  0.034496 -0.054564  1.000000  \n"
     ]
    }
   ],
   "source": [
    "print(song.corr())"
   ]
  },
  {
   "cell_type": "code",
   "execution_count": 9,
   "metadata": {},
   "outputs": [
    {
     "data": {
      "text/plain": [
       "Text(0.5, 1.0, 'The Correlation Between the Variables')"
      ]
     },
     "execution_count": 9,
     "metadata": {},
     "output_type": "execute_result"
    },
    {
     "data": {
      "image/png": "[encoded data removed]",
      "text/plain": [
       "<Figure size 432x288 with 2 Axes>"
      ]
     },
     "metadata": {
      "needs_background": "light"
     },
     "output_type": "display_data"
    }
   ],
   "source": [
    "Correlation=song[['dnce','nrgy','val','acous','pop']]\n",
    "sns.heatmap(Correlation.corr(), annot=True, cmap=\"YlOrRd\")\n",
    "plt.title(\"The Correlation Between the Variables\")\n",
    "# Here I'm using a heatmap to see the different values that correlate"
   ]
  }
 ],
 "metadata": {
  "kernelspec": {
   "display_name": "Python 3",
   "language": "python",
   "name": "python3"
  },
  "language_info": {
   "codemirror_mode": {
    "name": "ipython",
    "version": 3
   },
   "file_extension": ".py",
   "mimetype": "text/x-python",
   "name": "python",
   "nbconvert_exporter": "python",
   "pygments_lexer": "ipython3",
   "version": "3.8.5"
  }
 },
 "nbformat": 4,
 "nbformat_minor": 4
}
